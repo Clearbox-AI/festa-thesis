{
 "cells": [
  {
   "cell_type": "markdown",
   "metadata": {},
   "source": [
    "Fairness: Random Forest outperforms Logistic Regression, particularly in Statistical Parity Difference, Disparate Impact, and Equal Opportunity Difference.\n",
    "\n",
    "\n",
    "Accuracy: Logistic Regression achieves slightly better Balanced Accuracy on both validation and test datasets."
   ]
  },
  {
   "cell_type": "code",
   "execution_count": 1,
   "metadata": {},
   "outputs": [
    {
     "name": "stderr",
     "output_type": "stream",
     "text": [
      "WARNING:root:No module named 'tensorflow': AdversarialDebiasing will be unavailable. To install, run:\n",
      "pip install 'aif360[AdversarialDebiasing]'\n",
      "WARNING:root:No module named 'tensorflow': AdversarialDebiasing will be unavailable. To install, run:\n",
      "pip install 'aif360[AdversarialDebiasing]'\n",
      "WARNING:root:No module named 'fairlearn': ExponentiatedGradientReduction will be unavailable. To install, run:\n",
      "pip install 'aif360[Reductions]'\n",
      "WARNING:root:No module named 'fairlearn': GridSearchReduction will be unavailable. To install, run:\n",
      "pip install 'aif360[Reductions]'\n",
      "WARNING:root:No module named 'inFairness': SenSeI and SenSR will be unavailable. To install, run:\n",
      "pip install 'aif360[inFairness]'\n",
      "WARNING:root:No module named 'fairlearn': GridSearchReduction will be unavailable. To install, run:\n",
      "pip install 'aif360[Reductions]'\n"
     ]
    }
   ],
   "source": [
    "import sys\n",
    "import numpy as np\n",
    "import pandas as pd\n",
    "from aif360.metrics import BinaryLabelDatasetMetric\n",
    "from aif360.metrics import ClassificationMetric\n",
    "from sklearn.preprocessing import StandardScaler\n",
    "import matplotlib.pyplot as plt\n",
    "import copy\n",
    "from IPython.display import display\n",
    "from aif360.algorithms.preprocessing.optim_preproc_helpers.data_preproc_functions\\\n",
    "        import load_preproc_data_adult\n",
    "\n",
    "from aif360.algorithms.preprocessing.optim_preproc import OptimPreproc\n",
    "from aif360.algorithms.preprocessing.optim_preproc_helpers.distortion_functions import get_distortion_adult\n",
    "from sklearn.ensemble import RandomForestClassifier\n",
    "from sklearn.metrics import accuracy_score, balanced_accuracy_score\n",
    "from aif360.algorithms.preprocessing.optim_preproc_helpers.opt_tools import OptTools\n",
    "\n",
    "\n",
    "# Ensure reproducibility\n",
    "np.random.seed(1)\n",
    "\n",
    "# Append a path if needed\n",
    "sys.path.append(\"../\")\n"
   ]
  },
  {
   "cell_type": "code",
   "execution_count": 2,
   "metadata": {},
   "outputs": [],
   "source": [
    "privileged_groups = [{'sex': 1}]\n",
    "unprivileged_groups = [{'sex': 0}]\n",
    "preprocessed_dataset = load_preproc_data_adult(['sex'])\n",
    "train, val_test = preprocessed_dataset.split([0.7], shuffle=True)\n",
    "val, test = val_test.split([0.5], shuffle=True)"
   ]
  },
  {
   "cell_type": "code",
   "execution_count": 3,
   "metadata": {},
   "outputs": [
    {
     "name": "stdout",
     "output_type": "stream",
     "text": [
      "Train Dataset (Before Transformation):\n",
      "  Statistical Parity Difference: -0.1902\n",
      "  Disparate Impact: 0.3678\n",
      "\n",
      "Test Dataset (Before Transformation):\n",
      "  Statistical Parity Difference: -0.1910\n",
      "  Disparate Impact: 0.3740\n"
     ]
    }
   ],
   "source": [
    "# Evaluate fairness metrics before applying bias mitigation\n",
    "metric_train = BinaryLabelDatasetMetric(train, unprivileged_groups, privileged_groups)\n",
    "print(\"Train Dataset (Before Transformation):\")\n",
    "print(f\"  Statistical Parity Difference: {metric_train.mean_difference():.4f}\")\n",
    "print(f\"  Disparate Impact: {metric_train.disparate_impact():.4f}\")\n",
    "\n",
    "metric_test = BinaryLabelDatasetMetric(test, unprivileged_groups, privileged_groups)\n",
    "print(\"\\nTest Dataset (Before Transformation):\")\n",
    "print(f\"  Statistical Parity Difference: {metric_test.mean_difference():.4f}\")\n",
    "print(f\"  Disparate Impact: {metric_test.disparate_impact():.4f}\")"
   ]
  },
  {
   "cell_type": "markdown",
   "metadata": {},
   "source": [
    "Probabilistic Transformation:\n",
    "\n",
    "The method uses a learned probabilistic transformation to alter the dataset.\n",
    "This transformation adjusts both feature values and labels in a way that minimizes unfair treatment of any protected group while retaining as much of the original data's integrity as possible.\n",
    "\n",
    "\n",
    "Minimizing Distortion:\n",
    "\n",
    "A balance is maintained between reducing discrimination and minimizing the distortion of individual data points.\n",
    "This is crucial for ensuring that the data remains useful and predictive after transformation.\n",
    "\n",
    "Distortion measures how much the modified data deviates from the original data, which can affect individual data points or the dataset as a whole."
   ]
  },
  {
   "cell_type": "code",
   "execution_count": 4,
   "metadata": {},
   "outputs": [],
   "source": [
    "optim_options = {\n",
    "    \"distortion_fun\": get_distortion_adult, #measures how much individual data points are modified during the preprocessing.\n",
    "    \"epsilon\": 0.05,  #fairness constraint parameter. Lower values of epsilon enforce stricter limits on how much the data can be altered, balancing fairness and data integrity.\n",
    "    \"clist\": [0.99, 1.99, 2.99],  #list of fairness cost levels. Each number represents a different level of how much fairness is prioritized. The higher, the more fairness is prioritized\n",
    "    \"dlist\": [.1, 0.05, 0] #list of distortion limits corresponding to the fairness costs in clist. At a fairness cost of 0.99, the data can be changed (distorted) up to 0.1.\n",
    "}"
   ]
  },
  {
   "cell_type": "code",
   "execution_count": 5,
   "metadata": {},
   "outputs": [
    {
     "name": "stderr",
     "output_type": "stream",
     "text": [
      "c:\\Users\\festa\\AppData\\Local\\Programs\\Python\\Python312\\Lib\\site-packages\\aif360\\algorithms\\preprocessing\\optim_preproc.py:68: UserWarning: Privileged and unprivileged groups specified will not be used. The protected attributes are directly specified in the data preprocessing function. The current implementation automatically adjusts for discrimination across all groups. This can be changed by changing the optimization code.\n",
      "  warn(\"Privileged and unprivileged groups specified will not be \"\n",
      "c:\\Users\\festa\\AppData\\Local\\Programs\\Python\\Python312\\Lib\\site-packages\\aif360\\algorithms\\preprocessing\\optim_preproc_helpers\\opt_tools.py:98: FutureWarning: The default of observed=False is deprecated and will be changed to True in a future version of pandas. Pass observed=False to retain current behavior or observed=True to adopt the future default and silence this warning.\n",
      "  self.dfJoint = self.df.groupby(self.features).size().reset_index()\n",
      "c:\\Users\\festa\\AppData\\Local\\Programs\\Python\\Python312\\Lib\\site-packages\\aif360\\algorithms\\preprocessing\\optim_preproc_helpers\\opt_tools.py:329: FutureWarning: The default of observed=False is deprecated and will be changed to True in a future version of pandas. Pass observed=False to retain current behavior or observed=True to adopt the future default and silence this warning.\n",
      "  dfMarginal = self.dfJoint.groupby(self.DXY_features)['Frequency'].sum()\n",
      "c:\\Users\\festa\\AppData\\Local\\Programs\\Python\\Python312\\Lib\\site-packages\\cvxpy\\expressions\\expression.py:667: UserWarning: \n",
      "This use of ``*`` has resulted in matrix multiplication.\n",
      "Using ``*`` for matrix multiplication has been deprecated since CVXPY 1.1.\n",
      "    Use ``*`` for matrix-scalar and vector-scalar multiplication.\n",
      "    Use ``@`` for matrix-matrix and matrix-vector multiplication.\n",
      "    Use ``multiply`` for elementwise multiplication.\n",
      "This code path has been hit 1 times so far.\n",
      "\n",
      "  warnings.warn(msg, UserWarning)\n",
      "c:\\Users\\festa\\AppData\\Local\\Programs\\Python\\Python312\\Lib\\site-packages\\cvxpy\\expressions\\expression.py:667: UserWarning: \n",
      "This use of ``*`` has resulted in matrix multiplication.\n",
      "Using ``*`` for matrix multiplication has been deprecated since CVXPY 1.1.\n",
      "    Use ``*`` for matrix-scalar and vector-scalar multiplication.\n",
      "    Use ``@`` for matrix-matrix and matrix-vector multiplication.\n",
      "    Use ``multiply`` for elementwise multiplication.\n",
      "This code path has been hit 2 times so far.\n",
      "\n",
      "  warnings.warn(msg, UserWarning)\n",
      "c:\\Users\\festa\\AppData\\Local\\Programs\\Python\\Python312\\Lib\\site-packages\\cvxpy\\expressions\\expression.py:667: UserWarning: \n",
      "This use of ``*`` has resulted in matrix multiplication.\n",
      "Using ``*`` for matrix multiplication has been deprecated since CVXPY 1.1.\n",
      "    Use ``*`` for matrix-scalar and vector-scalar multiplication.\n",
      "    Use ``@`` for matrix-matrix and matrix-vector multiplication.\n",
      "    Use ``multiply`` for elementwise multiplication.\n",
      "This code path has been hit 3 times so far.\n",
      "\n",
      "  warnings.warn(msg, UserWarning)\n",
      "c:\\Users\\festa\\AppData\\Local\\Programs\\Python\\Python312\\Lib\\site-packages\\cvxpy\\expressions\\expression.py:667: UserWarning: \n",
      "This use of ``*`` has resulted in matrix multiplication.\n",
      "Using ``*`` for matrix multiplication has been deprecated since CVXPY 1.1.\n",
      "    Use ``*`` for matrix-scalar and vector-scalar multiplication.\n",
      "    Use ``@`` for matrix-matrix and matrix-vector multiplication.\n",
      "    Use ``multiply`` for elementwise multiplication.\n",
      "This code path has been hit 4 times so far.\n",
      "\n",
      "  warnings.warn(msg, UserWarning)\n",
      "c:\\Users\\festa\\AppData\\Local\\Programs\\Python\\Python312\\Lib\\site-packages\\cvxpy\\problems\\problem.py:1481: UserWarning: Solution may be inaccurate. Try another solver, adjusting the solver settings, or solve with verbose=True for more information.\n",
      "  warnings.warn(\n",
      "c:\\Users\\festa\\AppData\\Local\\Programs\\Python\\Python312\\Lib\\site-packages\\aif360\\algorithms\\preprocessing\\optim_preproc.py:165: FutureWarning: DataFrame.applymap has been deprecated. Use DataFrame.map instead.\n",
      "  dfP_withY = self.OpT.dfP.applymap(lambda x: 0 if x < 1e-8 else x)\n"
     ]
    },
    {
     "name": "stdout",
     "output_type": "stream",
     "text": [
      "Optimized Preprocessing: Objective converged to 0.010893\n"
     ]
    },
    {
     "name": "stderr",
     "output_type": "stream",
     "text": [
      "c:\\Users\\festa\\AppData\\Local\\Programs\\Python\\Python312\\Lib\\site-packages\\aif360\\algorithms\\preprocessing\\optim_preproc.py:165: FutureWarning: DataFrame.applymap has been deprecated. Use DataFrame.map instead.\n",
      "  dfP_withY = self.OpT.dfP.applymap(lambda x: 0 if x < 1e-8 else x)\n",
      "c:\\Users\\festa\\AppData\\Local\\Programs\\Python\\Python312\\Lib\\site-packages\\aif360\\algorithms\\preprocessing\\optim_preproc.py:165: FutureWarning: DataFrame.applymap has been deprecated. Use DataFrame.map instead.\n",
      "  dfP_withY = self.OpT.dfP.applymap(lambda x: 0 if x < 1e-8 else x)\n"
     ]
    }
   ],
   "source": [
    "# Initialize OptimPreproc\n",
    "optim_preproc = OptimPreproc(OptTools, optim_options,\n",
    "                  unprivileged_groups = unprivileged_groups,\n",
    "                  privileged_groups = privileged_groups)\n",
    "optim_preproc = optim_preproc.fit(train)\n",
    "\n",
    "# Fit and transform training data\n",
    "train_transf = optim_preproc.transform(train)\n",
    "train_transf = train.align_datasets(train_transf)\n",
    "\n",
    "val_transf = optim_preproc.transform(val)\n",
    "val_transf = val.align_datasets(val_transf)\n",
    "\n",
    "test_transf = optim_preproc.transform(test)\n",
    "test_transf = test.align_datasets(test_transf)\n"
   ]
  },
  {
   "cell_type": "code",
   "execution_count": 6,
   "metadata": {},
   "outputs": [
    {
     "name": "stdout",
     "output_type": "stream",
     "text": [
      "\n",
      "Train Dataset (After Transformation):\n",
      "  Statistical Parity Difference: -0.0499\n",
      "  Disparate Impact: 0.8113\n",
      "\n",
      "Test Dataset (After Transformation):\n",
      "  Statistical Parity Difference: -0.0520\n",
      "  Disparate Impact: 0.8073\n"
     ]
    }
   ],
   "source": [
    "# Evaluate fairness metrics after applying LFR\n",
    "metric_train_after = BinaryLabelDatasetMetric(train_transf, unprivileged_groups, privileged_groups)\n",
    "print(\"\\nTrain Dataset (After Transformation):\")\n",
    "print(f\"  Statistical Parity Difference: {metric_train_after.mean_difference():.4f}\")\n",
    "print(f\"  Disparate Impact: {metric_train_after.disparate_impact():.4f}\")\n",
    "\n",
    "metric_test_after = BinaryLabelDatasetMetric(test_transf, unprivileged_groups, privileged_groups)\n",
    "print(\"\\nTest Dataset (After Transformation):\")\n",
    "print(f\"  Statistical Parity Difference: {metric_test_after.mean_difference():.4f}\")\n",
    "print(f\"  Disparate Impact: {metric_test_after.disparate_impact():.4f}\")\n"
   ]
  },
  {
   "cell_type": "code",
   "execution_count": 7,
   "metadata": {},
   "outputs": [],
   "source": [
    "# Standardize the features\n",
    "scaler = StandardScaler()\n",
    "train.features = scaler.fit_transform(train.features)\n",
    "val.features = scaler.transform(val.features)\n",
    "test.features = scaler.transform(test.features)\n"
   ]
  },
  {
   "cell_type": "markdown",
   "metadata": {},
   "source": [
    "Train a classifier with original data."
   ]
  },
  {
   "cell_type": "code",
   "execution_count": 8,
   "metadata": {},
   "outputs": [],
   "source": [
    "classifier = RandomForestClassifier(max_depth=None, max_leaf_nodes=6, max_features=3)\n",
    "\n",
    "\n"
   ]
  },
  {
   "cell_type": "code",
   "execution_count": 9,
   "metadata": {},
   "outputs": [
    {
     "name": "stderr",
     "output_type": "stream",
     "text": [
      "c:\\Users\\festa\\AppData\\Local\\Programs\\Python\\Python312\\Lib\\site-packages\\aif360\\metrics\\dataset_metric.py:82: RuntimeWarning: invalid value encountered in scalar divide\n",
      "  return metric_fun(privileged=False) / metric_fun(privileged=True)\n"
     ]
    },
    {
     "name": "stdout",
     "output_type": "stream",
     "text": [
      "Best Threshold (validation): 0.23\n",
      "Best Balanced Accuracy (validation): 0.7394384157829352\n"
     ]
    }
   ],
   "source": [
    "# Train a classifier on original training data\n",
    "classifier.fit(train.features, train.labels.ravel())\n",
    "\n",
    "# Predict on validation set\n",
    "val_scores = classifier.predict_proba(val.features)[:, 1] #only for the favorable class?\n",
    "\n",
    "# Select best threshold for validation set\n",
    "thresholds = np.arange(0.01, 1, 0.01)\n",
    "val_balanced_accs = []\n",
    "\n",
    "for threshold in thresholds:\n",
    "    val_LR_predictions = (val_scores >= threshold).astype(int)\n",
    "\n",
    "    val_with_LR_scores = copy.deepcopy(val)\n",
    "    val_with_LR_scores.labels = val_LR_predictions.reshape(-1, 1)  # Update labels with predictions\n",
    "\n",
    "    val_metric = ClassificationMetric(val, val_with_LR_scores,\n",
    "                                      unprivileged_groups=unprivileged_groups,\n",
    "                                      privileged_groups=privileged_groups)\n",
    "    balanced_acc = (val_metric.true_positive_rate() + val_metric.true_negative_rate()) / 2\n",
    "    disparate_impact = val_metric.disparate_impact()\n",
    "    avg_odds_diff = val_metric.average_odds_difference()\n",
    "\n",
    "    val_balanced_accs.append(balanced_acc)\n",
    "\n",
    "best_index = np.argmax(val_balanced_accs)\n",
    "best_threshold = thresholds[best_index]\n",
    "best_balanced_acc = val_balanced_accs[best_index]\n",
    "\n",
    "print(f\"Best Threshold (validation): {best_threshold}\")\n",
    "print(f\"Best Balanced Accuracy (validation): {best_balanced_acc}\")"
   ]
  },
  {
   "cell_type": "code",
   "execution_count": 10,
   "metadata": {},
   "outputs": [
    {
     "name": "stdout",
     "output_type": "stream",
     "text": [
      "Balanced Accuracy (test): 0.737029024698035\n",
      "Statistical Parity Difference (test): -0.4269081115318659\n",
      "Disparate Impact (test): 0.2639669357160749\n",
      "Average Odds Difference (test): -0.3705565458083655\n",
      "Equal Opportunity Difference (test): -0.3975074114526447\n",
      "Theil Index (test): 0.10470543815103062\n"
     ]
    }
   ],
   "source": [
    "\n",
    "\n",
    "# Apply the best threshold to the test set\n",
    "test_scores = classifier.predict_proba(test.features)[:, 1]\n",
    "test_LR_predictions= (test_scores >= best_threshold).astype(int)\n",
    "\n",
    "# Create a copy of the test dataset and set predicted labels\n",
    "test_with_LR_scores = copy.deepcopy(test)\n",
    "test_with_LR_scores.labels = test_LR_predictions.reshape(-1, 1)\n",
    "\n",
    "# Calculate fairness and performance metrics on the test set\n",
    "test_metric = ClassificationMetric(test, test_with_LR_scores,\n",
    "                                   unprivileged_groups=unprivileged_groups,\n",
    "                                   privileged_groups=privileged_groups)\n",
    "\n",
    "# Balanced Accuracy\n",
    "true_positive_rate = test_metric.true_positive_rate()\n",
    "true_negative_rate = test_metric.true_negative_rate()\n",
    "balanced_accuracy = (true_positive_rate + true_negative_rate) / 2\n",
    "print(f\"Balanced Accuracy (test): {balanced_accuracy}\")\n",
    "\n",
    "# Statistical Parity Difference\n",
    "statistical_parity_difference = test_metric.statistical_parity_difference()\n",
    "print(f\"Statistical Parity Difference (test): {statistical_parity_difference}\")\n",
    "\n",
    "# Disparate Impact\n",
    "disparate_impact = test_metric.disparate_impact()\n",
    "print(f\"Disparate Impact (test): {disparate_impact}\")\n",
    "\n",
    "# Average Odds Difference\n",
    "average_odds_difference = test_metric.average_odds_difference()\n",
    "print(f\"Average Odds Difference (test): {average_odds_difference}\")\n",
    "\n",
    "# Equal Opportunity Difference\n",
    "equal_opportunity_difference = test_metric.equal_opportunity_difference()\n",
    "print(f\"Equal Opportunity Difference (test): {equal_opportunity_difference}\")\n",
    "\n",
    "# Theil Index\n",
    "theil_index = test_metric.theil_index()\n",
    "print(f\"Theil Index (test): {theil_index}\")"
   ]
  },
  {
   "cell_type": "code",
   "execution_count": 11,
   "metadata": {},
   "outputs": [
    {
     "name": "stderr",
     "output_type": "stream",
     "text": [
      "c:\\Users\\festa\\AppData\\Local\\Programs\\Python\\Python312\\Lib\\site-packages\\aif360\\metrics\\dataset_metric.py:82: RuntimeWarning: invalid value encountered in scalar divide\n",
      "  return metric_fun(privileged=False) / metric_fun(privileged=True)\n"
     ]
    }
   ],
   "source": [
    "# Plot Test Metrics Over Thresholds\n",
    "test_balanced_accs = []\n",
    "test_disp_impacts = []\n",
    "test_avg_odds_diffs = []\n",
    "\n",
    "for threshold in thresholds:\n",
    "    test_predictions = (test_scores >= threshold).astype(int)\n",
    "    test_with_scores = copy.deepcopy(test)\n",
    "    test_with_scores.labels = test_predictions.reshape(-1, 1)\n",
    "\n",
    "    test_metric = ClassificationMetric(test, test_with_scores, unprivileged_groups, privileged_groups)\n",
    "    test_balanced_accs.append((test_metric.true_positive_rate() + test_metric.true_negative_rate()) / 2)\n",
    "    test_disp_impacts.append(test_metric.disparate_impact())\n",
    "    test_avg_odds_diffs.append(test_metric.average_odds_difference())"
   ]
  },
  {
   "cell_type": "code",
   "execution_count": 12,
   "metadata": {},
   "outputs": [
    {
     "data": {
      "image/png": "[encoded data removed]",
      "text/plain": [
       "<Figure size 1000x600 with 2 Axes>"
      ]
     },
     "metadata": {},
     "output_type": "display_data"
    }
   ],
   "source": [
    "# Create the figure and primary y-axis for Balanced Accuracy\n",
    "fig, ax1 = plt.subplots(figsize=(10, 6))\n",
    "\n",
    "# Balanced Accuracy\n",
    "ax1.plot(thresholds, test_balanced_accs, label=\"Balanced Accuracy\", color=\"blue\", linewidth=2)\n",
    "ax1.set_xlabel(\"Threshold\", fontsize=14)\n",
    "ax1.set_ylabel(\"Balanced Accuracy\", color=\"blue\", fontsize=14)\n",
    "ax1.tick_params(axis='y', labelcolor=\"blue\")\n",
    "ax1.grid()\n",
    "\n",
    "# Secondary y-axis for Disparate Impact and Equal Opportunity Difference\n",
    "ax2 = ax1.twinx()\n",
    "\n",
    "# Disparate Impact\n",
    "ax2.plot(thresholds, test_disp_impacts, label=\"Disparate Impact\", color=\"orange\", linestyle=\"--\", linewidth=2)\n",
    "\n",
    "# Average Odds Difference\n",
    "ax2.plot(thresholds, test_avg_odds_diffs, label=\"Average Odds Difference\", color=\"red\", linestyle=\"-.\", linewidth=2)\n",
    "\n",
    "ax2.set_ylabel(\"Fairness Metrics\", color=\"red\", fontsize=14)\n",
    "ax2.tick_params(axis='y', labelcolor=\"red\")\n",
    "\n",
    "# Highlight the best threshold\n",
    "ax1.axvline(best_threshold, color='green', linestyle='--', linewidth=2, label=\"Best Threshold\")\n",
    "\n",
    "# Combine legends from both axes\n",
    "lines1, labels1 = ax1.get_legend_handles_labels()\n",
    "lines2, labels2 = ax2.get_legend_handles_labels()\n",
    "fig.legend(lines1 + lines2, labels1 + labels2, loc=\"upper center\", bbox_to_anchor=(0.5, -0.1), ncol=3, fontsize=12)\n",
    "\n",
    "# Title and layout adjustments\n",
    "fig.suptitle(\"Test Metrics vs Threshold (original test data)\", fontsize=16)\n",
    "fig.tight_layout()\n",
    "plt.show()"
   ]
  },
  {
   "cell_type": "markdown",
   "metadata": {},
   "source": [
    "now they are transformed and we train logistic regression on trained data. TRAIN classifier with transformed data."
   ]
  },
  {
   "cell_type": "code",
   "execution_count": 13,
   "metadata": {},
   "outputs": [
    {
     "data": {
      "text/html": [
       "<style>#sk-container-id-1 {color: black;}#sk-container-id-1 pre{padding: 0;}#sk-container-id-1 div.sk-toggleable {background-color: white;}#sk-container-id-1 label.sk-toggleable__label {cursor: pointer;display: block;width: 100%;margin-bottom: 0;padding: 0.3em;box-sizing: border-box;text-align: center;}#sk-container-id-1 label.sk-toggleable__label-arrow:before {content: \"▸\";float: left;margin-right: 0.25em;color: #696969;}#sk-container-id-1 label.sk-toggleable__label-arrow:hover:before {color: black;}#sk-container-id-1 div.sk-estimator:hover label.sk-toggleable__label-arrow:before {color: black;}#sk-container-id-1 div.sk-toggleable__content {max-height: 0;max-width: 0;overflow: hidden;text-align: left;background-color: #f0f8ff;}#sk-container-id-1 div.sk-toggleable__content pre {margin: 0.2em;color: black;border-radius: 0.25em;background-color: #f0f8ff;}#sk-container-id-1 input.sk-toggleable__control:checked~div.sk-toggleable__content {max-height: 200px;max-width: 100%;overflow: auto;}#sk-container-id-1 input.sk-toggleable__control:checked~label.sk-toggleable__label-arrow:before {content: \"▾\";}#sk-container-id-1 div.sk-estimator input.sk-toggleable__control:checked~label.sk-toggleable__label {background-color: #d4ebff;}#sk-container-id-1 div.sk-label input.sk-toggleable__control:checked~label.sk-toggleable__label {background-color: #d4ebff;}#sk-container-id-1 input.sk-hidden--visually {border: 0;clip: rect(1px 1px 1px 1px);clip: rect(1px, 1px, 1px, 1px);height: 1px;margin: -1px;overflow: hidden;padding: 0;position: absolute;width: 1px;}#sk-container-id-1 div.sk-estimator {font-family: monospace;background-color: #f0f8ff;border: 1px dotted black;border-radius: 0.25em;box-sizing: border-box;margin-bottom: 0.5em;}#sk-container-id-1 div.sk-estimator:hover {background-color: #d4ebff;}#sk-container-id-1 div.sk-parallel-item::after {content: \"\";width: 100%;border-bottom: 1px solid gray;flex-grow: 1;}#sk-container-id-1 div.sk-label:hover label.sk-toggleable__label {background-color: #d4ebff;}#sk-container-id-1 div.sk-serial::before {content: \"\";position: absolute;border-left: 1px solid gray;box-sizing: border-box;top: 0;bottom: 0;left: 50%;z-index: 0;}#sk-container-id-1 div.sk-serial {display: flex;flex-direction: column;align-items: center;background-color: white;padding-right: 0.2em;padding-left: 0.2em;position: relative;}#sk-container-id-1 div.sk-item {position: relative;z-index: 1;}#sk-container-id-1 div.sk-parallel {display: flex;align-items: stretch;justify-content: center;background-color: white;position: relative;}#sk-container-id-1 div.sk-item::before, #sk-container-id-1 div.sk-parallel-item::before {content: \"\";position: absolute;border-left: 1px solid gray;box-sizing: border-box;top: 0;bottom: 0;left: 50%;z-index: -1;}#sk-container-id-1 div.sk-parallel-item {display: flex;flex-direction: column;z-index: 1;position: relative;background-color: white;}#sk-container-id-1 div.sk-parallel-item:first-child::after {align-self: flex-end;width: 50%;}#sk-container-id-1 div.sk-parallel-item:last-child::after {align-self: flex-start;width: 50%;}#sk-container-id-1 div.sk-parallel-item:only-child::after {width: 0;}#sk-container-id-1 div.sk-dashed-wrapped {border: 1px dashed gray;margin: 0 0.4em 0.5em 0.4em;box-sizing: border-box;padding-bottom: 0.4em;background-color: white;}#sk-container-id-1 div.sk-label label {font-family: monospace;font-weight: bold;display: inline-block;line-height: 1.2em;}#sk-container-id-1 div.sk-label-container {text-align: center;}#sk-container-id-1 div.sk-container {/* jupyter's `normalize.less` sets `[hidden] { display: none; }` but bootstrap.min.css set `[hidden] { display: none !important; }` so we also need the `!important` here to be able to override the default hidden behavior on the sphinx rendered scikit-learn.org. See: https://github.com/scikit-learn/scikit-learn/issues/21755 */display: inline-block !important;position: relative;}#sk-container-id-1 div.sk-text-repr-fallback {display: none;}</style><div id=\"sk-container-id-1\" class=\"sk-top-container\"><div class=\"sk-text-repr-fallback\"><pre>RandomForestClassifier(max_features=3, max_leaf_nodes=6)</pre><b>In a Jupyter environment, please rerun this cell to show the HTML representation or trust the notebook. <br />On GitHub, the HTML representation is unable to render, please try loading this page with nbviewer.org.</b></div><div class=\"sk-container\" hidden><div class=\"sk-item\"><div class=\"sk-estimator sk-toggleable\"><input class=\"sk-toggleable__control sk-hidden--visually\" id=\"sk-estimator-id-1\" type=\"checkbox\" checked><label for=\"sk-estimator-id-1\" class=\"sk-toggleable__label sk-toggleable__label-arrow\">RandomForestClassifier</label><div class=\"sk-toggleable__content\"><pre>RandomForestClassifier(max_features=3, max_leaf_nodes=6)</pre></div></div></div></div></div>"
      ],
      "text/plain": [
       "RandomForestClassifier(max_features=3, max_leaf_nodes=6)"
      ]
     },
     "execution_count": 13,
     "metadata": {},
     "output_type": "execute_result"
    }
   ],
   "source": [
    "# Train a classifier on transformed training data\n",
    "classifier.fit(train_transf.features, train_transf.labels.ravel())\n"
   ]
  },
  {
   "cell_type": "code",
   "execution_count": 14,
   "metadata": {},
   "outputs": [
    {
     "name": "stdout",
     "output_type": "stream",
     "text": [
      "Balanced Accuracy (test): 0.7065307089772181\n",
      "Statistical Parity Difference (test): -0.053636370733747274\n",
      "Disparate Impact (test): 0.8982637833703327\n",
      "Average Odds Difference (test): 0.021402991875053817\n",
      "Equal Opportunity Difference (test): 0.01426704634108289\n",
      "Theil Index (test): 0.10266973212476292\n"
     ]
    }
   ],
   "source": [
    "# Apply the best threshold to the transf test set\n",
    "test_transf_scores = classifier.predict_proba(test_transf.features)[:, 1]\n",
    "test_transf_LR_predictions= (test_transf_scores >= best_threshold).astype(int)\n",
    "\n",
    "# Create a copy of the test dataset and set predicted labels\n",
    "test_transf_with_LR_scores = copy.deepcopy(test)\n",
    "test_transf_with_LR_scores.labels = test_transf_LR_predictions.reshape(-1, 1)\n",
    "\n",
    "# Calculate fairness and performance metrics on the test set\n",
    "test_transf_metric = ClassificationMetric(test, test_transf_with_LR_scores,\n",
    "                                   unprivileged_groups=unprivileged_groups,\n",
    "                                   privileged_groups=privileged_groups)\n",
    "\n",
    "# Balanced Accuracy\n",
    "true_positive_rate = test_transf_metric.true_positive_rate()\n",
    "true_negative_rate = test_transf_metric.true_negative_rate()\n",
    "balanced_accuracy_transf = (true_positive_rate + true_negative_rate) / 2\n",
    "print(f\"Balanced Accuracy (test): {balanced_accuracy_transf}\")\n",
    "\n",
    "# i shall change all these metrics to _transf\n",
    "# Statistical Parity Difference\n",
    "statistical_parity_difference_transf = test_transf_metric.statistical_parity_difference()\n",
    "print(f\"Statistical Parity Difference (test): {statistical_parity_difference_transf}\")\n",
    "\n",
    "# Disparate Impact\n",
    "disparate_impact_transf = test_transf_metric.disparate_impact()\n",
    "print(f\"Disparate Impact (test): {disparate_impact_transf}\")\n",
    "\n",
    "# Average Odds Difference\n",
    "average_odds_difference_transf = test_transf_metric.average_odds_difference()\n",
    "print(f\"Average Odds Difference (test): {average_odds_difference_transf}\")\n",
    "\n",
    "# Equal Opportunity Difference\n",
    "equal_opportunity_difference_transf = test_transf_metric.equal_opportunity_difference()\n",
    "print(f\"Equal Opportunity Difference (test): {equal_opportunity_difference_transf}\")\n",
    "\n",
    "# Theil Index\n",
    "theil_index_transf = test_transf_metric.theil_index()\n",
    "print(f\"Theil Index (test): {theil_index_transf}\")"
   ]
  },
  {
   "cell_type": "code",
   "execution_count": 15,
   "metadata": {},
   "outputs": [
    {
     "name": "stderr",
     "output_type": "stream",
     "text": [
      "c:\\Users\\festa\\AppData\\Local\\Programs\\Python\\Python312\\Lib\\site-packages\\aif360\\metrics\\dataset_metric.py:82: RuntimeWarning: invalid value encountered in scalar divide\n",
      "  return metric_fun(privileged=False) / metric_fun(privileged=True)\n"
     ]
    }
   ],
   "source": [
    "# Plot Test Metrics Over Thresholds\n",
    "test_transf_balanced_accs = []\n",
    "test_transf_disp_impacts = []\n",
    "test_transf_avg_odds_diffs = []\n",
    "\n",
    "for threshold in thresholds:\n",
    "    test_transf_predictions = (test_transf_scores >= threshold).astype(int)\n",
    "    test_transf_with_scores = copy.deepcopy(test)\n",
    "    test_transf_with_scores.labels = test_transf_predictions.reshape(-1, 1)\n",
    "\n",
    "    test_transf_metric = ClassificationMetric(test, test_transf_with_scores, unprivileged_groups, privileged_groups)\n",
    "    test_transf_balanced_accs.append((test_transf_metric.true_positive_rate() + test_transf_metric.true_negative_rate()) / 2)\n",
    "    test_transf_disp_impacts.append(test_transf_metric.disparate_impact())\n",
    "    test_transf_avg_odds_diffs.append(test_transf_metric.average_odds_difference())"
   ]
  },
  {
   "cell_type": "code",
   "execution_count": 16,
   "metadata": {},
   "outputs": [
    {
     "data": {
      "image/png": "[encoded data removed]",
      "text/plain": [
       "<Figure size 1000x600 with 2 Axes>"
      ]
     },
     "metadata": {},
     "output_type": "display_data"
    }
   ],
   "source": [
    "# Create the figure and primary y-axis for Balanced Accuracy\n",
    "fig, ax1 = plt.subplots(figsize=(10, 6))\n",
    "\n",
    "# Balanced Accuracy\n",
    "ax1.plot(thresholds, test_transf_balanced_accs, label=\"Balanced Accuracy\", color=\"blue\", linewidth=2)\n",
    "ax1.set_xlabel(\"Threshold\", fontsize=14)\n",
    "ax1.set_ylabel(\"Balanced Accuracy\", color=\"blue\", fontsize=14)\n",
    "ax1.tick_params(axis='y', labelcolor=\"blue\")\n",
    "ax1.grid()\n",
    "\n",
    "# Secondary y-axis for Disparate Impact and Equal Opportunity Difference\n",
    "ax2 = ax1.twinx()\n",
    "\n",
    "# Disparate Impact\n",
    "ax2.plot(thresholds, test_transf_disp_impacts, label=\"Disparate Impact\", color=\"orange\", linestyle=\"--\", linewidth=2)\n",
    "\n",
    "# Average Odds Difference\n",
    "ax2.plot(thresholds, test_transf_avg_odds_diffs, label=\"Average Odds Difference\", color=\"red\", linestyle=\"-.\", linewidth=2)\n",
    "\n",
    "ax2.set_ylabel(\"Fairness Metrics\", color=\"red\", fontsize=14)\n",
    "ax2.tick_params(axis='y', labelcolor=\"red\")\n",
    "\n",
    "# Highlight the best threshold\n",
    "ax1.axvline(best_threshold, color='green', linestyle='--', linewidth=2, label=\"Best Threshold\")\n",
    "\n",
    "# Combine legends from both axes\n",
    "lines1, labels1 = ax1.get_legend_handles_labels()\n",
    "lines2, labels2 = ax2.get_legend_handles_labels()\n",
    "fig.legend(lines1 + lines2, labels1 + labels2, loc=\"upper center\", bbox_to_anchor=(0.5, -0.1), ncol=3, fontsize=12)\n",
    "\n",
    "# Title and layout adjustments\n",
    "fig.suptitle(\"Test Metrics vs Threshold (transformed test data)\", fontsize=16)\n",
    "fig.tight_layout()\n",
    "plt.show()"
   ]
  },
  {
   "cell_type": "code",
   "execution_count": 17,
   "metadata": {},
   "outputs": [],
   "source": [
    "# Organizing the metrics with actual calculated values\n",
    "results_data = {\n",
    "    \"Dataset\": [\n",
    "        \"Train\", \"Train\", \"Test\", \"Test\", \n",
    "        \"Train\", \"Train\", \"Test\", \"Test\", \n",
    "        \"Validation\", \"Validation\", \n",
    "        \"Test (Original)\", \"Test (Transformed)\",\n",
    "        \"Test (Original)\", \"Test (Transformed)\",\n",
    "        \"Test (Original)\", \"Test (Transformed)\",\n",
    "        \"Test (Original)\", \"Test (Transformed)\",\n",
    "        \"Test (Original)\", \"Test (Transformed)\",\n",
    "        \"Test (Original)\", \"Test (Transformed)\"\n",
    "    ],\n",
    "    \"Stage\": [\n",
    "        \"Before Transformation\", \"After Transformation\", \n",
    "        \"Before Transformation\", \"After Transformation\",\n",
    "        \"Before Transformation\", \"After Transformation\", \n",
    "        \"Before Transformation\", \"After Transformation\",\n",
    "        \"Best Threshold (Validation)\", \"Best Threshold (Validation)\",\n",
    "        \"After Threshold\", \"After Threshold\", \n",
    "        \"After Threshold\", \"After Threshold\", \n",
    "        \"After Threshold\", \"After Threshold\", \n",
    "        \"After Threshold\", \"After Threshold\", \n",
    "        \"After Threshold\", \"After Threshold\", \n",
    "        \"After Threshold\", \"After Threshold\"\n",
    "    ],\n",
    "    \"Metric\": [\n",
    "        \"Statistical Parity Difference\", \"Statistical Parity Difference\",\n",
    "        \"Statistical Parity Difference\", \"Statistical Parity Difference\",\n",
    "        \"Disparate Impact\", \"Disparate Impact\",\n",
    "        \"Disparate Impact\", \"Disparate Impact\",\n",
    "        \"Threshold\", \"Balanced Accuracy\",\n",
    "        \"Balanced Accuracy\", \"Balanced Accuracy\", \n",
    "        \"Statistical Parity Difference\", \"Statistical Parity Difference\", \n",
    "        \"Disparate Impact\", \"Disparate Impact\",\n",
    "        \"Average Odds Difference\", \"Average Odds Difference\",\n",
    "        \"Equal Opportunity Difference\", \"Equal Opportunity Difference\", \n",
    "        \"Theil Index\", \"Theil Index\"\n",
    "    ],\n",
    "    \"Value\": [\n",
    "        metric_train.mean_difference(),\n",
    "        metric_train_after.mean_difference(),\n",
    "        metric_test.mean_difference(),\n",
    "        metric_test_after.mean_difference(),\n",
    "        metric_train.disparate_impact(),\n",
    "        metric_train_after.disparate_impact(),\n",
    "        metric_test.disparate_impact(),\n",
    "        metric_test_after.disparate_impact(),\n",
    "        best_threshold,\n",
    "        best_balanced_acc,\n",
    "        balanced_accuracy, balanced_accuracy_transf,\n",
    "        statistical_parity_difference, statistical_parity_difference_transf,\n",
    "        disparate_impact, disparate_impact_transf,\n",
    "        average_odds_difference, average_odds_difference_transf,\n",
    "        equal_opportunity_difference, equal_opportunity_difference_transf,\n",
    "        theil_index, theil_index_transf\n",
    "    ]\n",
    "}\n",
    "\n",
    "# Create the DataFrame\n",
    "results_table = pd.DataFrame(results_data)\n",
    "\n",
    "# Display the table\n",
    "#display(results_table)\n"
   ]
  },
  {
   "cell_type": "markdown",
   "metadata": {},
   "source": [
    "**Fairness Metrics Before and After Transformation**\n",
    "- This table represents the fairness metrics (Statistical Parity Difference and Disparate Impact) for both the train and test datasets, before and after applying the transformation.\n",
    "\n",
    "**Validation Metrics for Threshold Selection**\n",
    "- This table contains metrics related to the validation phase, including the best threshold and corresponding balanced accuracy.\n",
    "\n",
    "**Test Metrics After Applying Threshold**\n",
    "- This table summarizes fairness and performance metrics calculated on the test set of the original and transformed dataset after applying the selected threshold.\n"
   ]
  },
  {
   "cell_type": "code",
   "execution_count": 18,
   "metadata": {},
   "outputs": [
    {
     "data": {
      "text/plain": [
       "'Fairness Metrics Before and After Transformation'"
      ]
     },
     "metadata": {},
     "output_type": "display_data"
    },
    {
     "data": {
      "text/html": [
       "<div>\n",
       "<style scoped>\n",
       "    .dataframe tbody tr th:only-of-type {\n",
       "        vertical-align: middle;\n",
       "    }\n",
       "\n",
       "    .dataframe tbody tr th {\n",
       "        vertical-align: top;\n",
       "    }\n",
       "\n",
       "    .dataframe thead th {\n",
       "        text-align: right;\n",
       "    }\n",
       "</style>\n",
       "<table border=\"1\" class=\"dataframe\">\n",
       "  <thead>\n",
       "    <tr style=\"text-align: right;\">\n",
       "      <th></th>\n",
       "      <th>Dataset</th>\n",
       "      <th>Stage</th>\n",
       "      <th>Metric</th>\n",
       "      <th>Value</th>\n",
       "    </tr>\n",
       "  </thead>\n",
       "  <tbody>\n",
       "    <tr>\n",
       "      <th>0</th>\n",
       "      <td>Train</td>\n",
       "      <td>Before Transformation</td>\n",
       "      <td>Statistical Parity Difference</td>\n",
       "      <td>-0.190244</td>\n",
       "    </tr>\n",
       "    <tr>\n",
       "      <th>1</th>\n",
       "      <td>Train</td>\n",
       "      <td>After Transformation</td>\n",
       "      <td>Statistical Parity Difference</td>\n",
       "      <td>-0.049945</td>\n",
       "    </tr>\n",
       "    <tr>\n",
       "      <th>2</th>\n",
       "      <td>Test</td>\n",
       "      <td>Before Transformation</td>\n",
       "      <td>Statistical Parity Difference</td>\n",
       "      <td>-0.190984</td>\n",
       "    </tr>\n",
       "    <tr>\n",
       "      <th>3</th>\n",
       "      <td>Test</td>\n",
       "      <td>After Transformation</td>\n",
       "      <td>Statistical Parity Difference</td>\n",
       "      <td>-0.051973</td>\n",
       "    </tr>\n",
       "    <tr>\n",
       "      <th>4</th>\n",
       "      <td>Train</td>\n",
       "      <td>Before Transformation</td>\n",
       "      <td>Disparate Impact</td>\n",
       "      <td>0.367778</td>\n",
       "    </tr>\n",
       "    <tr>\n",
       "      <th>5</th>\n",
       "      <td>Train</td>\n",
       "      <td>After Transformation</td>\n",
       "      <td>Disparate Impact</td>\n",
       "      <td>0.811348</td>\n",
       "    </tr>\n",
       "    <tr>\n",
       "      <th>6</th>\n",
       "      <td>Test</td>\n",
       "      <td>Before Transformation</td>\n",
       "      <td>Disparate Impact</td>\n",
       "      <td>0.373983</td>\n",
       "    </tr>\n",
       "    <tr>\n",
       "      <th>7</th>\n",
       "      <td>Test</td>\n",
       "      <td>After Transformation</td>\n",
       "      <td>Disparate Impact</td>\n",
       "      <td>0.807275</td>\n",
       "    </tr>\n",
       "  </tbody>\n",
       "</table>\n",
       "</div>"
      ],
      "text/plain": [
       "  Dataset                  Stage                         Metric     Value\n",
       "0   Train  Before Transformation  Statistical Parity Difference -0.190244\n",
       "1   Train   After Transformation  Statistical Parity Difference -0.049945\n",
       "2    Test  Before Transformation  Statistical Parity Difference -0.190984\n",
       "3    Test   After Transformation  Statistical Parity Difference -0.051973\n",
       "4   Train  Before Transformation               Disparate Impact  0.367778\n",
       "5   Train   After Transformation               Disparate Impact  0.811348\n",
       "6    Test  Before Transformation               Disparate Impact  0.373983\n",
       "7    Test   After Transformation               Disparate Impact  0.807275"
      ]
     },
     "metadata": {},
     "output_type": "display_data"
    },
    {
     "data": {
      "text/plain": [
       "'Validation Metrics for Threshold Selection'"
      ]
     },
     "metadata": {},
     "output_type": "display_data"
    },
    {
     "data": {
      "text/html": [
       "<div>\n",
       "<style scoped>\n",
       "    .dataframe tbody tr th:only-of-type {\n",
       "        vertical-align: middle;\n",
       "    }\n",
       "\n",
       "    .dataframe tbody tr th {\n",
       "        vertical-align: top;\n",
       "    }\n",
       "\n",
       "    .dataframe thead th {\n",
       "        text-align: right;\n",
       "    }\n",
       "</style>\n",
       "<table border=\"1\" class=\"dataframe\">\n",
       "  <thead>\n",
       "    <tr style=\"text-align: right;\">\n",
       "      <th></th>\n",
       "      <th>Dataset</th>\n",
       "      <th>Stage</th>\n",
       "      <th>Metric</th>\n",
       "      <th>Value</th>\n",
       "    </tr>\n",
       "  </thead>\n",
       "  <tbody>\n",
       "    <tr>\n",
       "      <th>0</th>\n",
       "      <td>Validation</td>\n",
       "      <td>Best Threshold (Validation)</td>\n",
       "      <td>Threshold</td>\n",
       "      <td>0.230000</td>\n",
       "    </tr>\n",
       "    <tr>\n",
       "      <th>1</th>\n",
       "      <td>Validation</td>\n",
       "      <td>Best Threshold (Validation)</td>\n",
       "      <td>Balanced Accuracy</td>\n",
       "      <td>0.739438</td>\n",
       "    </tr>\n",
       "  </tbody>\n",
       "</table>\n",
       "</div>"
      ],
      "text/plain": [
       "      Dataset                        Stage             Metric     Value\n",
       "0  Validation  Best Threshold (Validation)          Threshold  0.230000\n",
       "1  Validation  Best Threshold (Validation)  Balanced Accuracy  0.739438"
      ]
     },
     "metadata": {},
     "output_type": "display_data"
    },
    {
     "data": {
      "text/plain": [
       "'Test Metrics After Applying Threshold On Original and Transformed'"
      ]
     },
     "metadata": {},
     "output_type": "display_data"
    },
    {
     "data": {
      "text/html": [
       "<div>\n",
       "<style scoped>\n",
       "    .dataframe tbody tr th:only-of-type {\n",
       "        vertical-align: middle;\n",
       "    }\n",
       "\n",
       "    .dataframe tbody tr th {\n",
       "        vertical-align: top;\n",
       "    }\n",
       "\n",
       "    .dataframe thead th {\n",
       "        text-align: right;\n",
       "    }\n",
       "</style>\n",
       "<table border=\"1\" class=\"dataframe\">\n",
       "  <thead>\n",
       "    <tr style=\"text-align: right;\">\n",
       "      <th></th>\n",
       "      <th>Dataset</th>\n",
       "      <th>Stage</th>\n",
       "      <th>Metric</th>\n",
       "      <th>Value</th>\n",
       "    </tr>\n",
       "  </thead>\n",
       "  <tbody>\n",
       "    <tr>\n",
       "      <th>0</th>\n",
       "      <td>Test (Original)</td>\n",
       "      <td>After Threshold</td>\n",
       "      <td>Balanced Accuracy</td>\n",
       "      <td>0.737029</td>\n",
       "    </tr>\n",
       "    <tr>\n",
       "      <th>1</th>\n",
       "      <td>Test (Transformed)</td>\n",
       "      <td>After Threshold</td>\n",
       "      <td>Balanced Accuracy</td>\n",
       "      <td>0.706531</td>\n",
       "    </tr>\n",
       "    <tr>\n",
       "      <th>2</th>\n",
       "      <td>Test (Original)</td>\n",
       "      <td>After Threshold</td>\n",
       "      <td>Statistical Parity Difference</td>\n",
       "      <td>-0.426908</td>\n",
       "    </tr>\n",
       "    <tr>\n",
       "      <th>3</th>\n",
       "      <td>Test (Transformed)</td>\n",
       "      <td>After Threshold</td>\n",
       "      <td>Statistical Parity Difference</td>\n",
       "      <td>-0.053636</td>\n",
       "    </tr>\n",
       "    <tr>\n",
       "      <th>4</th>\n",
       "      <td>Test (Original)</td>\n",
       "      <td>After Threshold</td>\n",
       "      <td>Disparate Impact</td>\n",
       "      <td>0.263967</td>\n",
       "    </tr>\n",
       "    <tr>\n",
       "      <th>5</th>\n",
       "      <td>Test (Transformed)</td>\n",
       "      <td>After Threshold</td>\n",
       "      <td>Disparate Impact</td>\n",
       "      <td>0.898264</td>\n",
       "    </tr>\n",
       "    <tr>\n",
       "      <th>6</th>\n",
       "      <td>Test (Original)</td>\n",
       "      <td>After Threshold</td>\n",
       "      <td>Average Odds Difference</td>\n",
       "      <td>-0.370557</td>\n",
       "    </tr>\n",
       "    <tr>\n",
       "      <th>7</th>\n",
       "      <td>Test (Transformed)</td>\n",
       "      <td>After Threshold</td>\n",
       "      <td>Average Odds Difference</td>\n",
       "      <td>0.021403</td>\n",
       "    </tr>\n",
       "    <tr>\n",
       "      <th>8</th>\n",
       "      <td>Test (Original)</td>\n",
       "      <td>After Threshold</td>\n",
       "      <td>Equal Opportunity Difference</td>\n",
       "      <td>-0.397507</td>\n",
       "    </tr>\n",
       "    <tr>\n",
       "      <th>9</th>\n",
       "      <td>Test (Transformed)</td>\n",
       "      <td>After Threshold</td>\n",
       "      <td>Equal Opportunity Difference</td>\n",
       "      <td>0.014267</td>\n",
       "    </tr>\n",
       "    <tr>\n",
       "      <th>10</th>\n",
       "      <td>Test (Original)</td>\n",
       "      <td>After Threshold</td>\n",
       "      <td>Theil Index</td>\n",
       "      <td>0.104705</td>\n",
       "    </tr>\n",
       "    <tr>\n",
       "      <th>11</th>\n",
       "      <td>Test (Transformed)</td>\n",
       "      <td>After Threshold</td>\n",
       "      <td>Theil Index</td>\n",
       "      <td>0.102670</td>\n",
       "    </tr>\n",
       "  </tbody>\n",
       "</table>\n",
       "</div>"
      ],
      "text/plain": [
       "               Dataset            Stage                         Metric  \\\n",
       "0      Test (Original)  After Threshold              Balanced Accuracy   \n",
       "1   Test (Transformed)  After Threshold              Balanced Accuracy   \n",
       "2      Test (Original)  After Threshold  Statistical Parity Difference   \n",
       "3   Test (Transformed)  After Threshold  Statistical Parity Difference   \n",
       "4      Test (Original)  After Threshold               Disparate Impact   \n",
       "5   Test (Transformed)  After Threshold               Disparate Impact   \n",
       "6      Test (Original)  After Threshold        Average Odds Difference   \n",
       "7   Test (Transformed)  After Threshold        Average Odds Difference   \n",
       "8      Test (Original)  After Threshold   Equal Opportunity Difference   \n",
       "9   Test (Transformed)  After Threshold   Equal Opportunity Difference   \n",
       "10     Test (Original)  After Threshold                    Theil Index   \n",
       "11  Test (Transformed)  After Threshold                    Theil Index   \n",
       "\n",
       "       Value  \n",
       "0   0.737029  \n",
       "1   0.706531  \n",
       "2  -0.426908  \n",
       "3  -0.053636  \n",
       "4   0.263967  \n",
       "5   0.898264  \n",
       "6  -0.370557  \n",
       "7   0.021403  \n",
       "8  -0.397507  \n",
       "9   0.014267  \n",
       "10  0.104705  \n",
       "11  0.102670  "
      ]
     },
     "metadata": {},
     "output_type": "display_data"
    }
   ],
   "source": [
    "\n",
    "# Separate the data into three groups\n",
    "fairness_metrics = results_table.iloc[0:8].reset_index(drop=True)\n",
    "validation_metrics = results_table.iloc[8:10].reset_index(drop=True)\n",
    "test_metrics = results_table.iloc[10:22].reset_index(drop=True)\n",
    "\n",
    "# Name the tables\n",
    "fairness_metrics.name = \"Fairness Metrics Before and After Transformation\"\n",
    "validation_metrics.name = \"Validation Metrics for Threshold Selection\"\n",
    "test_metrics.name = \"Test Metrics After Applying Threshold On Original and Transformed\"\n",
    "\n",
    "# Display the tables with their names\n",
    "for table in [fairness_metrics, validation_metrics, test_metrics]:\n",
    "    display(table.name)\n",
    "    display(table)\n",
    "\n"
   ]
  }
 ],
 "metadata": {
  "kernelspec": {
   "display_name": "Python 3",
   "language": "python",
   "name": "python3"
  },
  "language_info": {
   "codemirror_mode": {
    "name": "ipython",
    "version": 3
   },
   "file_extension": ".py",
   "mimetype": "text/x-python",
   "name": "python",
   "nbconvert_exporter": "python",
   "pygments_lexer": "ipython3",
   "version": "3.12.0"
  }
 },
 "nbformat": 4,
 "nbformat_minor": 2
}
